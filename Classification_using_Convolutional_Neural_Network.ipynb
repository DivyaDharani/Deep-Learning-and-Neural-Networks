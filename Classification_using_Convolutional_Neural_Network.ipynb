{
 "cells": [
  {
   "cell_type": "markdown",
   "metadata": {
    "id": "XaO-PgpKiZqo"
   },
   "source": [
    "# Classification Using Neural Networks and Deep Learning (SVHN Dataset) "
   ]
  },
  {
   "cell_type": "code",
   "execution_count": 1,
   "metadata": {
    "id": "DFY1TsyuiZqu"
   },
   "outputs": [],
   "source": [
    "import scipy.io\n",
    "import numpy as np\n",
    "import matplotlib.pyplot as plt"
   ]
  },
  {
   "cell_type": "code",
   "execution_count": 2,
   "metadata": {
    "id": "ee_sAtoliZqv"
   },
   "outputs": [],
   "source": [
    "#keras-related imports\n",
    "from keras.utils import to_categorical\n",
    "import keras\n",
    "from keras.models import Sequential, Input, Model\n",
    "from keras.layers import Dense, Dropout, Flatten\n",
    "from keras.layers import Conv2D, MaxPooling2D"
   ]
  },
  {
   "cell_type": "markdown",
   "metadata": {
    "id": "tFzIMQmwiZqv"
   },
   "source": [
    "# Loading Data"
   ]
  },
  {
   "cell_type": "code",
   "execution_count": 3,
   "metadata": {
    "id": "QcERAVIliZqv"
   },
   "outputs": [],
   "source": [
    "train_data_file = 'train_32x32.mat'\n",
    "test_data_file = 'test_32x32.mat'"
   ]
  },
  {
   "cell_type": "code",
   "execution_count": 4,
   "metadata": {
    "colab": {
     "base_uri": "https://localhost:8080/"
    },
    "id": "qEhgQ0--iZqw",
    "outputId": "927f86df-a795-464c-c6cd-981661f49093"
   },
   "outputs": [],
   "source": [
    "#For Google Colab\n",
    "#from google.colab import drive\n",
    "#drive.mount('/content/gdrive')\n",
    "#root_path = 'gdrive/My Drive/Colab Notebooks/' \n",
    "#train_data_file = root_path + '/train_32x32.mat'\n",
    "#test_data_file = root_path + '/test_32x32.mat'"
   ]
  },
  {
   "cell_type": "code",
   "execution_count": 5,
   "metadata": {
    "id": "7KV3CUITiZqw"
   },
   "outputs": [],
   "source": [
    "mat_train = scipy.io.loadmat(train_data_file)\n",
    "mat_test = scipy.io.loadmat(test_data_file)"
   ]
  },
  {
   "cell_type": "code",
   "execution_count": 6,
   "metadata": {
    "id": "_LdEIRRHiZqw"
   },
   "outputs": [],
   "source": [
    "X_train = mat_train['X']\n",
    "y_train = mat_train['y']\n",
    "X_test = mat_test['X']\n",
    "y_test = mat_test['y']"
   ]
  },
  {
   "cell_type": "code",
   "execution_count": 7,
   "metadata": {
    "colab": {
     "base_uri": "https://localhost:8080/"
    },
    "id": "MO4-FmuhiZqw",
    "outputId": "4798375f-f2df-44bc-dcd4-aa63f64810b1"
   },
   "outputs": [
    {
     "name": "stdout",
     "output_type": "stream",
     "text": [
      "Training data shape:  (73257, 32, 32, 3) (73257, 1)\n",
      "Testing data shape:  (26032, 32, 32, 3) (26032, 1)\n"
     ]
    }
   ],
   "source": [
    "print('Training data shape: ', X_train.shape, y_train.shape)\n",
    "print('Testing data shape: ', X_test.shape, y_test.shape)"
   ]
  },
  {
   "cell_type": "code",
   "execution_count": 8,
   "metadata": {
    "colab": {
     "base_uri": "https://localhost:8080/"
    },
    "id": "QOcJst5yiZqx",
    "outputId": "e7b5dca7-0f8d-4942-9905-826335220926"
   },
   "outputs": [
    {
     "name": "stdout",
     "output_type": "stream",
     "text": [
      "[0 1 2 3 4 5 6 7 8 9]\n",
      "Number of classes: 10\n"
     ]
    }
   ],
   "source": [
    "classes = np.unique(y_train)\n",
    "print(classes)\n",
    "num_classes = len(classes)\n",
    "print('Number of classes:', num_classes)"
   ]
  },
  {
   "cell_type": "code",
   "execution_count": 32,
   "metadata": {
    "colab": {
     "base_uri": "https://localhost:8080/",
     "height": 165
    },
    "id": "FSYOjhptiZqy",
    "outputId": "6162a509-33e8-4f05-9c55-23bc0a0fa301"
   },
   "outputs": [
    {
     "data": {
      "image/png": "[encoded data removed]",
      "text/plain": [
       "<Figure size 288x288 with 2 Axes>"
      ]
     },
     "metadata": {
      "needs_background": "light"
     },
     "output_type": "display_data"
    }
   ],
   "source": [
    "#Plotting few images from the training data\n",
    "plt.figure(figsize = (4,4))\n",
    "plt.subplot(121) #first image in 1x2 grid\n",
    "plt.imshow(X_train[99])\n",
    "plt.title(f'Y label: {y_train[99][0]}')\n",
    "\n",
    "plt.subplot(122) #second image in 1x2 grid\n",
    "plt.imshow(X_train[466]) \n",
    "plt.title(f'Y label: {y_train[466][0]}')\n",
    "\n",
    "plt.show()"
   ]
  },
  {
   "cell_type": "markdown",
   "metadata": {
    "id": "LpFSJlVLiZqy"
   },
   "source": [
    "# Data Preprocessing"
   ]
  },
  {
   "cell_type": "code",
   "execution_count": 55,
   "metadata": {
    "id": "0Az73AGHiZqy"
   },
   "outputs": [],
   "source": [
    "#Normalizing the inputs to be in the range of 0-1\n",
    "X_train = X_train / 255\n",
    "X_test = X_test / 255"
   ]
  },
  {
   "cell_type": "code",
   "execution_count": 56,
   "metadata": {
    "id": "C7mel3lEiZqy"
   },
   "outputs": [],
   "source": [
    "#Encoding the labels to one-hot vector\n",
    "y_train_one_hot = to_categorical(y_train)\n",
    "y_test_one_hot = to_categorical(y_test)"
   ]
  },
  {
   "cell_type": "code",
   "execution_count": 57,
   "metadata": {
    "id": "XKzOCqgXiZqz",
    "scrolled": true
   },
   "outputs": [],
   "source": [
    "#y_train_one_hot, y_test_one_hot"
   ]
  },
  {
   "cell_type": "code",
   "execution_count": 58,
   "metadata": {
    "colab": {
     "base_uri": "https://localhost:8080/"
    },
    "id": "OUQKLZsFiZqz",
    "outputId": "3482bb60-ed63-4ab7-c197-0f530c77deb6"
   },
   "outputs": [
    {
     "name": "stdout",
     "output_type": "stream",
     "text": [
      "Training data shape:  (73257, 32, 32, 3) (73257, 10)\n",
      "Testing data shape:  (26032, 32, 32, 3) (26032, 10)\n"
     ]
    }
   ],
   "source": [
    "print('Training data shape: ', X_train.shape, y_train_one_hot.shape)\n",
    "print('Testing data shape: ', X_test.shape, y_test_one_hot.shape)"
   ]
  },
  {
   "cell_type": "code",
   "execution_count": 58,
   "metadata": {
    "id": "XYtssKXhiZqz"
   },
   "outputs": [],
   "source": []
  },
  {
   "cell_type": "markdown",
   "metadata": {
    "id": "Nx17WIRniZqz"
   },
   "source": [
    "# Building the Network"
   ]
  },
  {
   "cell_type": "code",
   "execution_count": 59,
   "metadata": {
    "colab": {
     "base_uri": "https://localhost:8080/"
    },
    "id": "KQpL-M11iZq0",
    "outputId": "65d22a65-854d-48b4-c067-30cc131ad3f7"
   },
   "outputs": [
    {
     "name": "stdout",
     "output_type": "stream",
     "text": [
      "Input image shape :  (32, 32, 3)\n"
     ]
    }
   ],
   "source": [
    "#Setting up batch size, epochs, learning rate\n",
    "batch_size = 16\n",
    "epochs = 20\n",
    "learning_rate = 0.01\n",
    "input_image_shape = X_train.shape[1:]\n",
    "print('Input image shape : ', input_image_shape)"
   ]
  },
  {
   "cell_type": "code",
   "execution_count": 60,
   "metadata": {
    "id": "00cByzwZiZq0"
   },
   "outputs": [],
   "source": [
    "#Creating a sequential model and adding layers to it\n",
    "model = Sequential()\n",
    "model.add(Conv2D(filters = 64,\n",
    "                 kernel_size = (5, 5), \n",
    "                 padding = 'same',\n",
    "                 activation = 'relu',\n",
    "                 input_shape = input_image_shape))\n",
    "model.add(MaxPooling2D(pool_size = (2,2), strides = (2, 2)))\n",
    "model.add(Conv2D(filters = 64,\n",
    "                 kernel_size = (5, 5), \n",
    "                 padding = 'same',\n",
    "                 activation = 'relu'))\n",
    "model.add(MaxPooling2D(pool_size = (2,2), strides = (2, 2)))\n",
    "model.add(Conv2D(filters = 128,\n",
    "                 kernel_size = (5, 5), \n",
    "                 padding = 'same',\n",
    "                 activation = 'relu'))\n",
    "model.add(Flatten())\n",
    "model.add(Dense(units = 3072, activation = 'relu'))\n",
    "model.add(Dense(units = 2048, activation = 'relu'))\n",
    "model.add(Dense(num_classes, activation = 'softmax'))"
   ]
  },
  {
   "cell_type": "code",
   "execution_count": 61,
   "metadata": {
    "colab": {
     "base_uri": "https://localhost:8080/"
    },
    "id": "S3A5VQkNiZq0",
    "outputId": "97fb1f4b-5192-4d70-bd16-57bade18a660",
    "scrolled": true
   },
   "outputs": [
    {
     "name": "stdout",
     "output_type": "stream",
     "text": [
      "Model: \"sequential_2\"\n",
      "_________________________________________________________________\n",
      "Layer (type)                 Output Shape              Param #   \n",
      "=================================================================\n",
      "conv2d_6 (Conv2D)            (None, 32, 32, 64)        4864      \n",
      "_________________________________________________________________\n",
      "max_pooling2d_4 (MaxPooling2 (None, 16, 16, 64)        0         \n",
      "_________________________________________________________________\n",
      "conv2d_7 (Conv2D)            (None, 16, 16, 64)        102464    \n",
      "_________________________________________________________________\n",
      "max_pooling2d_5 (MaxPooling2 (None, 8, 8, 64)          0         \n",
      "_________________________________________________________________\n",
      "conv2d_8 (Conv2D)            (None, 8, 8, 128)         204928    \n",
      "_________________________________________________________________\n",
      "flatten_2 (Flatten)          (None, 8192)              0         \n",
      "_________________________________________________________________\n",
      "dense_6 (Dense)              (None, 3072)              25168896  \n",
      "_________________________________________________________________\n",
      "dense_7 (Dense)              (None, 2048)              6293504   \n",
      "_________________________________________________________________\n",
      "dense_8 (Dense)              (None, 10)                20490     \n",
      "=================================================================\n",
      "Total params: 31,795,146\n",
      "Trainable params: 31,795,146\n",
      "Non-trainable params: 0\n",
      "_________________________________________________________________\n"
     ]
    }
   ],
   "source": [
    "#Printing model summary which includes the layer information and the output dimensions\n",
    "model.summary()"
   ]
  },
  {
   "cell_type": "markdown",
   "metadata": {
    "id": "PZyygnzriZq0"
   },
   "source": [
    "# Compiling the model"
   ]
  },
  {
   "cell_type": "code",
   "execution_count": 62,
   "metadata": {
    "id": "K8JgHrT7iZq1"
   },
   "outputs": [],
   "source": [
    "#Compiling the model\n",
    "model.compile(optimizer = keras.optimizers.SGD(learning_rate = learning_rate), \n",
    "              loss = keras.losses.categorical_crossentropy, \n",
    "              metrics = ['accuracy'])"
   ]
  },
  {
   "cell_type": "markdown",
   "metadata": {
    "id": "IjcxUOUGiZq1"
   },
   "source": [
    "# Training the model"
   ]
  },
  {
   "cell_type": "code",
   "execution_count": 63,
   "metadata": {
    "colab": {
     "base_uri": "https://localhost:8080/"
    },
    "id": "b4pSxxzsiZq1",
    "outputId": "947d7421-dc15-482a-eb00-fa28d5b5bdc6"
   },
   "outputs": [
    {
     "name": "stdout",
     "output_type": "stream",
     "text": [
      "Epoch 1/20\n",
      "4579/4579 [==============================] - 38s 8ms/step - loss: 1.9254 - accuracy: 0.3164 - val_loss: 0.5792 - val_accuracy: 0.8299\n",
      "Epoch 2/20\n",
      "4579/4579 [==============================] - 37s 8ms/step - loss: 0.4736 - accuracy: 0.8609 - val_loss: 0.3905 - val_accuracy: 0.8855\n",
      "Epoch 3/20\n",
      "4579/4579 [==============================] - 36s 8ms/step - loss: 0.3296 - accuracy: 0.9021 - val_loss: 0.3766 - val_accuracy: 0.8901\n",
      "Epoch 4/20\n",
      "4579/4579 [==============================] - 37s 8ms/step - loss: 0.2544 - accuracy: 0.9263 - val_loss: 0.3194 - val_accuracy: 0.9073\n",
      "Epoch 5/20\n",
      "4579/4579 [==============================] - 36s 8ms/step - loss: 0.2006 - accuracy: 0.9421 - val_loss: 0.3414 - val_accuracy: 0.9034\n",
      "Epoch 6/20\n",
      "4579/4579 [==============================] - 36s 8ms/step - loss: 0.1551 - accuracy: 0.9554 - val_loss: 0.3366 - val_accuracy: 0.9097\n",
      "Epoch 7/20\n",
      "4579/4579 [==============================] - 36s 8ms/step - loss: 0.1081 - accuracy: 0.9692 - val_loss: 0.3413 - val_accuracy: 0.9117\n",
      "Epoch 8/20\n",
      "4579/4579 [==============================] - 36s 8ms/step - loss: 0.0802 - accuracy: 0.9772 - val_loss: 0.4106 - val_accuracy: 0.9012\n",
      "Epoch 9/20\n",
      "4579/4579 [==============================] - 36s 8ms/step - loss: 0.0517 - accuracy: 0.9865 - val_loss: 0.4105 - val_accuracy: 0.9111\n",
      "Epoch 10/20\n",
      "4579/4579 [==============================] - 36s 8ms/step - loss: 0.0369 - accuracy: 0.9896 - val_loss: 0.4600 - val_accuracy: 0.9129\n",
      "Epoch 11/20\n",
      "4579/4579 [==============================] - 36s 8ms/step - loss: 0.0258 - accuracy: 0.9931 - val_loss: 0.4748 - val_accuracy: 0.9085\n",
      "Epoch 12/20\n",
      "4579/4579 [==============================] - 36s 8ms/step - loss: 0.0156 - accuracy: 0.9962 - val_loss: 0.5071 - val_accuracy: 0.9126\n",
      "Epoch 13/20\n",
      "4579/4579 [==============================] - 36s 8ms/step - loss: 0.0168 - accuracy: 0.9956 - val_loss: 0.5254 - val_accuracy: 0.9143\n",
      "Epoch 14/20\n",
      "4579/4579 [==============================] - 37s 8ms/step - loss: 0.0136 - accuracy: 0.9967 - val_loss: 0.5420 - val_accuracy: 0.9119\n",
      "Epoch 15/20\n",
      "4579/4579 [==============================] - 37s 8ms/step - loss: 0.0131 - accuracy: 0.9965 - val_loss: 0.5216 - val_accuracy: 0.9161\n",
      "Epoch 16/20\n",
      "4579/4579 [==============================] - 36s 8ms/step - loss: 0.0035 - accuracy: 0.9995 - val_loss: 0.5872 - val_accuracy: 0.9110\n",
      "Epoch 17/20\n",
      "4579/4579 [==============================] - 36s 8ms/step - loss: 0.0067 - accuracy: 0.9984 - val_loss: 0.5842 - val_accuracy: 0.9164\n",
      "Epoch 18/20\n",
      "4579/4579 [==============================] - 37s 8ms/step - loss: 0.0018 - accuracy: 0.9997 - val_loss: 0.6149 - val_accuracy: 0.9191\n",
      "Epoch 19/20\n",
      "4579/4579 [==============================] - 36s 8ms/step - loss: 8.1522e-04 - accuracy: 0.9999 - val_loss: 0.6183 - val_accuracy: 0.9185\n",
      "Epoch 20/20\n",
      "4579/4579 [==============================] - 36s 8ms/step - loss: 6.7007e-04 - accuracy: 0.9999 - val_loss: 0.6308 - val_accuracy: 0.9203\n"
     ]
    }
   ],
   "source": [
    "#Training the model\n",
    "train_history = model.fit(\n",
    "    x = X_train,\n",
    "    y = y_train_one_hot,\n",
    "    batch_size = batch_size,\n",
    "    epochs = epochs,\n",
    "    verbose = 1,\n",
    "    validation_data = (X_test, y_test_one_hot))"
   ]
  },
  {
   "cell_type": "code",
   "execution_count": 63,
   "metadata": {
    "id": "VRfu_QN3iZq1"
   },
   "outputs": [],
   "source": []
  },
  {
   "cell_type": "code",
   "execution_count": 64,
   "metadata": {
    "id": "X2MDlzxAiZq1"
   },
   "outputs": [],
   "source": [
    "#train_history.history"
   ]
  },
  {
   "cell_type": "markdown",
   "metadata": {
    "id": "mPdAgnnxiZq2"
   },
   "source": [
    "# Plotting Accuracies"
   ]
  },
  {
   "cell_type": "code",
   "execution_count": 65,
   "metadata": {
    "id": "_VWGaYEgiZq2"
   },
   "outputs": [],
   "source": [
    "#Retrieving accuracy and loss from the training history\n",
    "training_accuracy = train_history.history['accuracy']\n",
    "training_loss = train_history.history['loss']\n",
    "\n",
    "testing_accuracy = train_history.history['val_accuracy']\n",
    "testing_loss = train_history.history['val_loss']\n"
   ]
  },
  {
   "cell_type": "code",
   "execution_count": 66,
   "metadata": {
    "colab": {
     "base_uri": "https://localhost:8080/",
     "height": 573
    },
    "id": "TSOhc-kYiZq2",
    "outputId": "5c1406ff-bd59-43dd-814c-6b8fb0d0d4af"
   },
   "outputs": [
    {
     "data": {
      "image/png": "[encoded data removed]",
      "text/plain": [
       "<Figure size 432x288 with 1 Axes>"
      ]
     },
     "metadata": {
      "needs_background": "light",
      "tags": []
     },
     "output_type": "display_data"
    },
    {
     "data": {
      "image/png": "[encoded data removed]",
      "text/plain": [
       "<Figure size 432x288 with 1 Axes>"
      ]
     },
     "metadata": {
      "needs_background": "light",
      "tags": []
     },
     "output_type": "display_data"
    }
   ],
   "source": [
    "#Plotting accuracy and loss\n",
    "epochs_range = range(epochs)\n",
    "plt.plot(epochs_range, training_accuracy, color = 'red', marker = '*', \n",
    "         label = 'Training accuracy')\n",
    "plt.plot(epochs_range, testing_accuracy, color = 'green', marker = '*', \n",
    "        label = 'Testing accuracy')\n",
    "plt.xlabel('Epochs')\n",
    "plt.ylabel('Accuracy')\n",
    "plt.title('Epochs Vs Training and Testing accuracies')\n",
    "plt.legend()\n",
    "\n",
    "plt.figure()\n",
    "plt.plot(epochs_range, training_loss, color = 'red', marker = 'x', \n",
    "         label = 'Training loss')\n",
    "plt.plot(epochs_range, testing_loss, color = 'green', marker = 'x', \n",
    "        label = 'Testing loss')\n",
    "plt.xlabel('Epochs')\n",
    "plt.ylabel('Loss function value')\n",
    "plt.title('Epochs vs Training and Testing loss values')\n",
    "plt.legend()\n",
    "\n",
    "plt.show()"
   ]
  },
  {
   "cell_type": "code",
   "execution_count": 67,
   "metadata": {
    "colab": {
     "base_uri": "https://localhost:8080/"
    },
    "id": "nkv7Ob-ZiZq3",
    "outputId": "adb90e36-9d48-4e9e-d758-0a0ab9316a60"
   },
   "outputs": [
    {
     "name": "stdout",
     "output_type": "stream",
     "text": [
      "INFO:tensorflow:Assets written to: model_training_history/assets\n"
     ]
    }
   ],
   "source": [
    "model.save('model_training_history')"
   ]
  },
  {
   "cell_type": "markdown",
   "metadata": {
    "id": "Czd8gByViZq3"
   },
   "source": [
    "# Predicting labels"
   ]
  },
  {
   "cell_type": "code",
   "execution_count": 68,
   "metadata": {
    "id": "Mr4ftUnbiZq3"
   },
   "outputs": [],
   "source": [
    "model_predictions = model.predict(X_test)"
   ]
  },
  {
   "cell_type": "code",
   "execution_count": 69,
   "metadata": {
    "id": "B-nsHOf1iZq4"
   },
   "outputs": [],
   "source": [
    "predicted_classes = np.argmax(np.round(model_predictions), axis = 1)"
   ]
  },
  {
   "cell_type": "code",
   "execution_count": 70,
   "metadata": {
    "colab": {
     "base_uri": "https://localhost:8080/",
     "height": 216
    },
    "id": "Z_2FkCEriZq4",
    "outputId": "ca33f9ae-de58-4ea7-fcdd-ce8562e63915"
   },
   "outputs": [
    {
     "data": {
      "image/png": "[encoded data removed]",
      "text/plain": [
       "<Figure size 432x288 with 2 Axes>"
      ]
     },
     "metadata": {
      "needs_background": "light",
      "tags": []
     },
     "output_type": "display_data"
    }
   ],
   "source": [
    "#Sample predictions\n",
    "plt.subplot(121)\n",
    "plt.imshow(X_test[0])\n",
    "plt.title(predicted_classes[0])\n",
    "\n",
    "\n",
    "plt.subplot(122)\n",
    "plt.imshow(X_test[13])\n",
    "plt.title(predicted_classes[13])\n",
    "\n",
    "plt.show()"
   ]
  },
  {
   "cell_type": "markdown",
   "metadata": {
    "id": "Ko5fYfS0iZq4"
   },
   "source": [
    "# Classification Report"
   ]
  },
  {
   "cell_type": "code",
   "execution_count": 71,
   "metadata": {
    "colab": {
     "base_uri": "https://localhost:8080/"
    },
    "id": "VwolSCmmiZq5",
    "outputId": "053e7fc3-a8fd-48a9-ca1c-0168ae38017d"
   },
   "outputs": [
    {
     "name": "stdout",
     "output_type": "stream",
     "text": [
      "814/814 [==============================] - 3s 4ms/step - loss: 0.6308 - accuracy: 0.9203\n",
      "Overall model loss:  0.6307752132415771\n",
      "Overall model accuracy:  0.9202904105186462\n"
     ]
    }
   ],
   "source": [
    "#Evaluating the model against the testing data\n",
    "(overall_loss, overall_accuracy) = model.evaluate(X_test, y_test_one_hot)\n",
    "print('Overall model loss: ', overall_loss)\n",
    "print('Overall model accuracy: ', overall_accuracy)"
   ]
  },
  {
   "cell_type": "code",
   "execution_count": 72,
   "metadata": {
    "id": "KF1h01ZpiZq5"
   },
   "outputs": [],
   "source": [
    "from sklearn.metrics import classification_report, confusion_matrix"
   ]
  },
  {
   "cell_type": "code",
   "execution_count": 73,
   "metadata": {
    "colab": {
     "base_uri": "https://localhost:8080/"
    },
    "id": "UmF8xosWiZq5",
    "outputId": "80cc53e0-afe0-4b2b-90cb-bbb67f1b94c9"
   },
   "outputs": [
    {
     "name": "stdout",
     "output_type": "stream",
     "text": [
      "Confusion Matrix \n",
      " [[1611   21   12   12    4    8   35    5   18   18]\n",
      " [  36 4863   35   27   48    8   16   47   10    9]\n",
      " [  26   35 3903   64   26    9   15   33   22   16]\n",
      " [  26   67   39 2495   17   54   20   10   36  118]\n",
      " [  19   65   21   22 2342    8   10   11    8   17]\n",
      " [  19   16   14   56   10 2174   55    3   14   23]\n",
      " [  32   18    7   14   17   38 1795    8   32   16]\n",
      " [   6   77   34   14    3    3    7 1868    2    5]\n",
      " [  29   13   14   34   16   12   54    0 1444   44]\n",
      " [  41   16   34   17    9   15    8    9    9 1437]]\n"
     ]
    }
   ],
   "source": [
    "print('Confusion Matrix \\n', confusion_matrix(y_test, predicted_classes))"
   ]
  },
  {
   "cell_type": "code",
   "execution_count": 74,
   "metadata": {
    "colab": {
     "base_uri": "https://localhost:8080/"
    },
    "id": "h0qzBAHJiZq6",
    "outputId": "6d054af3-8b7b-4a48-a379-37652b5a19dc"
   },
   "outputs": [
    {
     "name": "stdout",
     "output_type": "stream",
     "text": [
      "Classification Report \n",
      "               precision    recall  f1-score   support\n",
      "\n",
      "           0       0.87      0.92      0.90      1744\n",
      "           1       0.94      0.95      0.95      5099\n",
      "           2       0.95      0.94      0.94      4149\n",
      "           3       0.91      0.87      0.89      2882\n",
      "           4       0.94      0.93      0.93      2523\n",
      "           5       0.93      0.91      0.92      2384\n",
      "           6       0.89      0.91      0.90      1977\n",
      "           7       0.94      0.93      0.93      2019\n",
      "           8       0.91      0.87      0.89      1660\n",
      "           9       0.84      0.90      0.87      1595\n",
      "\n",
      "    accuracy                           0.92     26032\n",
      "   macro avg       0.91      0.91      0.91     26032\n",
      "weighted avg       0.92      0.92      0.92     26032\n",
      "\n"
     ]
    }
   ],
   "source": [
    "print('Classification Report \\n', classification_report(y_test, predicted_classes))"
   ]
  },
  {
   "cell_type": "code",
   "execution_count": 74,
   "metadata": {
    "id": "WT_CoCoFiZq6"
   },
   "outputs": [],
   "source": []
  },
  {
   "cell_type": "code",
   "execution_count": 74,
   "metadata": {
    "id": "K5s8cQIfiZq7"
   },
   "outputs": [],
   "source": []
  }
 ],
 "metadata": {
  "accelerator": "GPU",
  "colab": {
   "name": "Classification_using_Neural_Networks.ipynb",
   "provenance": []
  },
  "kernelspec": {
   "display_name": "Python 3",
   "language": "python",
   "name": "python3"
  },
  "language_info": {
   "codemirror_mode": {
    "name": "ipython",
    "version": 3
   },
   "file_extension": ".py",
   "mimetype": "text/x-python",
   "name": "python",
   "nbconvert_exporter": "python",
   "pygments_lexer": "ipython3",
   "version": "3.7.4"
  }
 },
 "nbformat": 4,
 "nbformat_minor": 1
}
